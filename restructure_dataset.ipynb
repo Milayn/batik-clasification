{
 "cells": [
  {
   "cell_type": "code",
   "execution_count": 1,
   "metadata": {},
   "outputs": [
    {
     "name": "stdout",
     "output_type": "stream",
     "text": [
      "Dataset telah direstrukturisasi berdasarkan 'kode class'.\n"
     ]
    }
   ],
   "source": [
    "import os\n",
    "import shutil\n",
    "\n",
    "# Lokasi dataset Anda\n",
    "dataset_path = 'dataset/batik_nitik_960_Images'\n",
    "new_dataset_path = 'dataset/dataset_restructure'\n",
    "\n",
    "# Membuat folder utama jika belum ada\n",
    "if not os.path.exists(new_dataset_path):\n",
    "    os.makedirs(new_dataset_path)\n",
    "\n",
    "# Mendapatkan semua file di dataset\n",
    "files = [f for f in os.listdir(dataset_path) if os.path.isfile(os.path.join(dataset_path, f))]\n",
    "\n",
    "# Loop melalui setiap file\n",
    "for file in files:\n",
    "    # Ekstrak \"kode class\" dari nama file\n",
    "    # Ini memisahkan berdasarkan spasi dan mengambil bagian pertama\n",
    "    class_code = file.split(' ')[0]\n",
    "\n",
    "    # Buat path folder baru untuk \"kode class\" ini jika belum ada\n",
    "    class_folder_path = os.path.join(new_dataset_path, class_code)\n",
    "    if not os.path.exists(class_folder_path):\n",
    "        os.makedirs(class_folder_path)\n",
    "    \n",
    "    # Pindahkan file ke folder \"kode class\" yang sesuai\n",
    "    src_file_path = os.path.join(dataset_path, file)\n",
    "    dst_file_path = os.path.join(class_folder_path, file)\n",
    "    shutil.move(src_file_path, dst_file_path)\n",
    "\n",
    "print(\"Dataset telah direstrukturisasi berdasarkan 'kode class'.\")"
   ]
  }
 ],
 "metadata": {
  "kernelspec": {
   "display_name": "Python 3",
   "language": "python",
   "name": "python3"
  },
  "language_info": {
   "codemirror_mode": {
    "name": "ipython",
    "version": 3
   },
   "file_extension": ".py",
   "mimetype": "text/x-python",
   "name": "python",
   "nbconvert_exporter": "python",
   "pygments_lexer": "ipython3",
   "version": "3.10.13"
  }
 },
 "nbformat": 4,
 "nbformat_minor": 2
}
