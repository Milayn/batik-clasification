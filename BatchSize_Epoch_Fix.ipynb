{
 "cells": [
  {
   "cell_type": "code",
   "execution_count": 1,
   "metadata": {},
   "outputs": [
    {
     "name": "stderr",
     "output_type": "stream",
     "text": [
      "2024-03-25 06:33:25.916864: I external/local_tsl/tsl/cuda/cudart_stub.cc:32] Could not find cuda drivers on your machine, GPU will not be used.\n",
      "2024-03-25 06:33:25.920855: I external/local_tsl/tsl/cuda/cudart_stub.cc:32] Could not find cuda drivers on your machine, GPU will not be used.\n",
      "2024-03-25 06:33:25.983077: I tensorflow/core/platform/cpu_feature_guard.cc:210] This TensorFlow binary is optimized to use available CPU instructions in performance-critical operations.\n",
      "To enable the following instructions: AVX2 FMA, in other operations, rebuild TensorFlow with the appropriate compiler flags.\n",
      "2024-03-25 06:33:27.576815: W tensorflow/compiler/tf2tensorrt/utils/py_utils.cc:38] TF-TRT Warning: Could not find TensorRT\n"
     ]
    }
   ],
   "source": [
    "import tensorflow as tf\n",
    "from tensorflow.keras.models import Sequential\n",
    "from tensorflow.keras.layers import Dense, Flatten\n",
    "from tensorflow.keras.optimizers import Adam\n",
    "from tensorflow.keras.losses import SparseCategoricalCrossentropy\n",
    "from tensorflow.keras.metrics import SparseCategoricalAccuracy"
   ]
  },
  {
   "cell_type": "code",
   "execution_count": 2,
   "metadata": {},
   "outputs": [],
   "source": [
    "# Fungsi untuk membangun model\n",
    "def build_model():\n",
    "    model = Sequential([\n",
    "        Flatten(input_shape=(28, 28)),\n",
    "        Dense(128, activation='relu'),\n",
    "        Dense(60, activation='softmax')\n",
    "    ])\n",
    "    return model"
   ]
  },
  {
   "cell_type": "code",
   "execution_count": 3,
   "metadata": {},
   "outputs": [
    {
     "name": "stdout",
     "output_type": "stream",
     "text": [
      "Found 240 files belonging to 60 classes.\n",
      "Using 192 files for training.\n",
      "Found 240 files belonging to 60 classes.\n",
      "Using 48 files for validation.\n"
     ]
    }
   ],
   "source": [
    "# Mendefinisikan dataset menggunakan tf.keras.preprocessing.image_dataset_from_directory\n",
    "mnist = tf.keras.preprocessing.image_dataset_from_directory(\n",
    "    \"dataset/data\",\n",
    "    labels='inferred',\n",
    "    label_mode='int',\n",
    "    color_mode='grayscale',  # Mengatur mode warna menjadi grayscale\n",
    "    batch_size=32,\n",
    "    image_size=(28, 28),\n",
    "    shuffle=True,\n",
    "    seed=123,\n",
    "    validation_split=0.2,\n",
    "    subset='training'\n",
    ")\n",
    "\n",
    "# Pisahkan data validasi\n",
    "mnist_val = tf.keras.preprocessing.image_dataset_from_directory(\n",
    "    \"dataset/data\",\n",
    "    labels='inferred',\n",
    "    label_mode='int',\n",
    "    color_mode='grayscale',  # Mengatur mode warna menjadi grayscale\n",
    "    batch_size=32,\n",
    "    image_size=(28, 28),\n",
    "    shuffle=True,\n",
    "    seed=123,\n",
    "    validation_split=0.2,\n",
    "    subset='validation'\n",
    ")"
   ]
  },
  {
   "cell_type": "code",
   "execution_count": 4,
   "metadata": {},
   "outputs": [],
   "source": [
    "# Preprocessing data\n",
    "def preprocess_data(image, label):\n",
    "    image = tf.cast(image, tf.float32) / 255.0\n",
    "    return image, label\n",
    "\n",
    "# Preprocess data train dan validation\n",
    "mnist = mnist.map(preprocess_data)\n",
    "mnist_val = mnist_val.map(preprocess_data)"
   ]
  },
  {
   "cell_type": "code",
   "execution_count": 5,
   "metadata": {},
   "outputs": [],
   "source": [
    "# Pemilihan kombinasi batch size dan jumlah epoch yang akan dievaluasi\n",
    "batch_sizes = [30, 32]\n",
    "num_epochs = [100, 1000]"
   ]
  },
  {
   "cell_type": "code",
   "execution_count": 6,
   "metadata": {},
   "outputs": [
    {
     "name": "stdout",
     "output_type": "stream",
     "text": [
      "Training with batch size 30 and 100 epochs...\n"
     ]
    },
    {
     "name": "stderr",
     "output_type": "stream",
     "text": [
      "/home/codespace/.python/current/lib/python3.10/site-packages/keras/src/layers/reshaping/flatten.py:37: UserWarning: Do not pass an `input_shape`/`input_dim` argument to a layer. When using Sequential models, prefer using an `Input(shape)` object as the first layer in the model instead.\n",
      "  super().__init__(**kwargs)\n"
     ]
    },
    {
     "name": "stdout",
     "output_type": "stream",
     "text": [
      "Training with batch size 30 and 1000 epochs...\n",
      "Training with batch size 32 and 100 epochs...\n",
      "Training with batch size 32 and 1000 epochs...\n"
     ]
    }
   ],
   "source": [
    "# Mengeksekusi eksperimen untuk setiap kombinasi\n",
    "results = {}\n",
    "for batch_size in batch_sizes:\n",
    "    for num_epoch in num_epochs:\n",
    "        print(f\"Training with batch size {batch_size} and {num_epoch} epochs...\")\n",
    "        model = build_model()\n",
    "        model.compile(optimizer=Adam(), loss=SparseCategoricalCrossentropy(), metrics=[SparseCategoricalAccuracy()])\n",
    "\n",
    "        # Melatih model dengan kombinasi yang dipilih\n",
    "        history = model.fit(mnist, epochs=num_epoch, validation_data=mnist_val, verbose=0)\n",
    "\n",
    "        # Menyimpan hasil evaluasi\n",
    "        results[(batch_size, num_epoch)] = history.history"
   ]
  },
  {
   "cell_type": "code",
   "execution_count": 7,
   "metadata": {},
   "outputs": [
    {
     "name": "stdout",
     "output_type": "stream",
     "text": [
      "Best combination: batch size 30, 100 epochs. Validation accuracy: 0.9166666865348816\n"
     ]
    }
   ],
   "source": [
    "# Analisis hasil\n",
    "best_accuracy = 0\n",
    "best_combination = None\n",
    "for combination, history in results.items():\n",
    "    val_accuracy = history['val_sparse_categorical_accuracy'][-1]\n",
    "    if val_accuracy > best_accuracy:\n",
    "        best_accuracy = val_accuracy\n",
    "        best_combination = combination\n",
    "\n",
    "print(f\"Best combination: batch size {best_combination[0]}, {best_combination[1]} epochs. Validation accuracy: {best_accuracy}\")\n"
   ]
  },
  {
   "cell_type": "markdown",
   "metadata": {},
   "source": [
    "Dengan Keterangan di Setiap Iterasi"
   ]
  },
  {
   "cell_type": "code",
   "execution_count": 8,
   "metadata": {},
   "outputs": [
    {
     "name": "stdout",
     "output_type": "stream",
     "text": [
      "Batch size: 30, Epochs: 100\n",
      "Validation Accuracy: 0.9166666865348816\n",
      "Batch size: 30, Epochs: 1000\n",
      "Validation Accuracy: 0.9166666865348816\n",
      "Batch size: 32, Epochs: 100\n",
      "Validation Accuracy: 0.9166666865348816\n",
      "Batch size: 32, Epochs: 1000\n",
      "Validation Accuracy: 0.9166666865348816\n",
      "Best combination: batch size 30, 100 epochs. Validation accuracy: 0.9166666865348816\n"
     ]
    }
   ],
   "source": [
    "# Analisis hasil\n",
    "best_accuracy = 0\n",
    "best_combination = None\n",
    "for combination, history in results.items():\n",
    "    val_accuracy = history['val_sparse_categorical_accuracy'][-1]\n",
    "    if val_accuracy > best_accuracy:\n",
    "        best_accuracy = val_accuracy\n",
    "        best_combination = combination\n",
    "\n",
    "    print(f\"Batch size: {combination[0]}, Epochs: {combination[1]}\")\n",
    "    print(\"Validation Accuracy:\", val_accuracy)\n",
    "\n",
    "print(f\"Best combination: batch size {best_combination[0]}, {best_combination[1]} epochs. Validation accuracy: {best_accuracy}\")"
   ]
  }
 ],
 "metadata": {
  "kernelspec": {
   "display_name": "Python 3",
   "language": "python",
   "name": "python3"
  },
  "language_info": {
   "codemirror_mode": {
    "name": "ipython",
    "version": 3
   },
   "file_extension": ".py",
   "mimetype": "text/x-python",
   "name": "python",
   "nbconvert_exporter": "python",
   "pygments_lexer": "ipython3",
   "version": "3.10.13"
  }
 },
 "nbformat": 4,
 "nbformat_minor": 2
}
