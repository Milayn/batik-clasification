{
 "cells": [
  {
   "cell_type": "code",
   "execution_count": 3,
   "metadata": {},
   "outputs": [
    {
     "name": "stderr",
     "output_type": "stream",
     "text": [
      "2024-03-23 09:43:22.375145: I tensorflow/core/platform/cpu_feature_guard.cc:210] This TensorFlow binary is optimized to use available CPU instructions in performance-critical operations.\n",
      "To enable the following instructions: AVX2 FMA, in other operations, rebuild TensorFlow with the appropriate compiler flags.\n",
      "2024-03-23 09:43:25.891696: W tensorflow/compiler/tf2tensorrt/utils/py_utils.cc:38] TF-TRT Warning: Could not find TensorRT\n"
     ]
    }
   ],
   "source": [
    "import tensorflow as tf\n",
    "from tensorflow.keras.models import Sequential\n",
    "from tensorflow.keras.layers import Dense, Flatten\n",
    "from tensorflow.keras.optimizers import Adam\n",
    "from tensorflow.keras.losses import SparseCategoricalCrossentropy\n",
    "from tensorflow.keras.metrics import SparseCategoricalAccuracy"
   ]
  },
  {
   "cell_type": "code",
   "execution_count": 4,
   "metadata": {},
   "outputs": [],
   "source": [
    "# Fungsi untuk membangun model\n",
    "def build_model():\n",
    "    model = Sequential([\n",
    "        Flatten(input_shape=(28, 28)),\n",
    "        Dense(128, activation='relu'),\n",
    "        Dense(10, activation='softmax')\n",
    "    ])\n",
    "    return model"
   ]
  },
  {
   "cell_type": "code",
   "execution_count": 5,
   "metadata": {},
   "outputs": [],
   "source": [
    "# Mendefinisikan dataset pelatihan dan validasi (contoh)\n",
    "mnist = tf.keras.datasets.mnist\n",
    "(x_train, y_train), (x_val, y_val) = mnist.load_data()\n",
    "x_train, x_val = x_train / 255.0, x_val / 255.0"
   ]
  },
  {
   "cell_type": "code",
   "execution_count": 6,
   "metadata": {},
   "outputs": [],
   "source": [
    "# Pemilihan kombinasi batch size dan jumlah epoch yang akan dievaluasi\n",
    "batch_sizes = [16, 32, 64, 128]\n",
    "num_epochs = [10, 20, 30, 40]"
   ]
  },
  {
   "cell_type": "code",
   "execution_count": 7,
   "metadata": {},
   "outputs": [
    {
     "name": "stdout",
     "output_type": "stream",
     "text": [
      "Training with batch size 16 and 10 epochs...\n"
     ]
    },
    {
     "name": "stderr",
     "output_type": "stream",
     "text": [
      "/home/codespace/.python/current/lib/python3.10/site-packages/keras/src/layers/reshaping/flatten.py:37: UserWarning: Do not pass an `input_shape`/`input_dim` argument to a layer. When using Sequential models, prefer using an `Input(shape)` object as the first layer in the model instead.\n",
      "  super().__init__(**kwargs)\n"
     ]
    },
    {
     "name": "stdout",
     "output_type": "stream",
     "text": [
      "Training with batch size 16 and 20 epochs...\n",
      "Training with batch size 16 and 30 epochs...\n",
      "Training with batch size 16 and 40 epochs...\n",
      "Training with batch size 32 and 10 epochs...\n",
      "Training with batch size 32 and 20 epochs...\n",
      "Training with batch size 32 and 30 epochs...\n",
      "Training with batch size 32 and 40 epochs...\n",
      "Training with batch size 64 and 10 epochs...\n",
      "Training with batch size 64 and 20 epochs...\n",
      "Training with batch size 64 and 30 epochs...\n",
      "Training with batch size 64 and 40 epochs...\n",
      "Training with batch size 128 and 10 epochs...\n",
      "Training with batch size 128 and 20 epochs...\n",
      "Training with batch size 128 and 30 epochs...\n",
      "Training with batch size 128 and 40 epochs...\n"
     ]
    }
   ],
   "source": [
    "# Mengeksekusi eksperimen untuk setiap kombinasi\n",
    "results = {}\n",
    "for batch_size in batch_sizes:\n",
    "    for num_epoch in num_epochs:\n",
    "        print(f\"Training with batch size {batch_size} and {num_epoch} epochs...\")\n",
    "        model = build_model()\n",
    "        model.compile(optimizer=Adam(), loss=SparseCategoricalCrossentropy(), metrics=[SparseCategoricalAccuracy()])\n",
    "\n",
    "        # Melatih model dengan kombinasi yang dipilih\n",
    "        history = model.fit(x_train, y_train, batch_size=batch_size, epochs=num_epoch, validation_data=(x_val, y_val), verbose=0)\n",
    "\n",
    "        # Menyimpan hasil evaluasi\n",
    "        results[(batch_size, num_epoch)] = history.history"
   ]
  },
  {
   "cell_type": "code",
   "execution_count": 8,
   "metadata": {},
   "outputs": [
    {
     "name": "stdout",
     "output_type": "stream",
     "text": [
      "Best combination: batch size 16, 30 epochs. Validation accuracy: 0.9815999865531921\n"
     ]
    }
   ],
   "source": [
    "# Analisis hasil\n",
    "best_accuracy = 0\n",
    "best_combination = None\n",
    "for combination, history in results.items():\n",
    "    val_accuracy = history['val_sparse_categorical_accuracy'][-1]\n",
    "    if val_accuracy > best_accuracy:\n",
    "        best_accuracy = val_accuracy\n",
    "        best_combination = combination\n",
    "\n",
    "print(f\"Best combination: batch size {best_combination[0]}, {best_combination[1]} epochs. Validation accuracy: {best_accuracy}\")"
   ]
  }
 ],
 "metadata": {
  "kernelspec": {
   "display_name": "Python 3",
   "language": "python",
   "name": "python3"
  },
  "language_info": {
   "codemirror_mode": {
    "name": "ipython",
    "version": 3
   },
   "file_extension": ".py",
   "mimetype": "text/x-python",
   "name": "python",
   "nbconvert_exporter": "python",
   "pygments_lexer": "ipython3",
   "version": "3.10.13"
  }
 },
 "nbformat": 4,
 "nbformat_minor": 2
}
